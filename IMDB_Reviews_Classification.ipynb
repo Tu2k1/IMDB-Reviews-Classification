{
  "nbformat": 4,
  "nbformat_minor": 0,
  "metadata": {
    "colab": {
      "provenance": [],
      "gpuType": "T4",
      "include_colab_link": true
    },
    "kernelspec": {
      "name": "python3",
      "display_name": "Python 3"
    },
    "language_info": {
      "name": "python"
    },
    "accelerator": "GPU"
  },
  "cells": [
    {
      "cell_type": "markdown",
      "metadata": {
        "id": "view-in-github",
        "colab_type": "text"
      },
      "source": [
        "<a href=\"https://colab.research.google.com/github/Tu2k1/IMDB-Reviews-Classification/blob/main/IMDB_Reviews_Classification.ipynb\" target=\"_parent\"><img src=\"https://colab.research.google.com/assets/colab-badge.svg\" alt=\"Open In Colab\"/></a>"
      ]
    },
    {
      "cell_type": "markdown",
      "source": [
        "# **Test Differnet Algorithms**"
      ],
      "metadata": {
        "id": "1aEoYn6PFxu3"
      }
    },
    {
      "cell_type": "code",
      "source": [
        "import pandas as pd\n",
        "from sklearn.model_selection import train_test_split\n",
        "from sklearn.feature_extraction.text import TfidfVectorizer\n",
        "from sklearn.linear_model import Perceptron, LogisticRegression\n",
        "from sklearn.tree import DecisionTreeClassifier\n",
        "from sklearn.naive_bayes import MultinomialNB\n",
        "from sklearn.metrics import accuracy_score, precision_score, recall_score, f1_score, roc_auc_score\n",
        "from nltk.corpus import stopwords\n",
        "from nltk.stem import PorterStemmer\n",
        "from nltk.tokenize import word_tokenize\n",
        "import nltk\n",
        "\n",
        "# Download NLTK stopwords data if not already downloaded\n",
        "nltk.download(\"stopwords\")\n",
        "nltk.download(\"punkt\")\n",
        "\n",
        "\n",
        "\n",
        "file = '/content/imdb_reviews.csv'\n",
        "\n",
        "# upload the dataset\n",
        "data = pd.read_csv(file, encoding=\"ISO-8859-1\")\n",
        "\n",
        "# Split the dataset into training and testing sets\n",
        "X = data['review']\n",
        "y = data['sentiment']\n",
        "X_train, X_test, y_train, y_test = train_test_split(X, y, test_size=0.2, random_state=42)\n",
        "\n",
        "# Preprocess the text data using TF-IDF vectorization, stop words removal, and stemming\n",
        "vectorizer = TfidfVectorizer()\n",
        "\n",
        "# Create a stemmer object and define stopwords\n",
        "stemmer = PorterStemmer()\n",
        "stop_words = set(stopwords.words(\"english\"))\n",
        "\n",
        "# Define a function for text cleaning (stop words removal and stemming)\n",
        "def clean_text(text):\n",
        "    words = word_tokenize(text)\n",
        "    cleaned_words = [stemmer.stem(word) for word in words if word.lower() not in stop_words]\n",
        "    return \" \".join(cleaned_words)\n",
        "\n",
        "X_train = X_train.apply(clean_text)\n",
        "X_test = X_test.apply(clean_text)\n",
        "\n",
        "X_train_vec = vectorizer.fit_transform(X_train)\n",
        "X_test_vec = vectorizer.transform(X_test)\n",
        "\n",
        "# List of algorithms with tuned hyperparameters\n",
        "algorithms = {\n",
        "    'Perceptron': Perceptron(alpha=0.0001, max_iter=1000),\n",
        "    'Decision Tree': DecisionTreeClassifier(max_depth=None, min_samples_split=2),\n",
        "    'Naive Bayes': MultinomialNB(alpha=1.0),\n",
        "    'Logistic Regression': LogisticRegression(C=1.0, max_iter=1000),\n",
        "}\n",
        "\n",
        "# Test each algorithm and print accuracy, precision, recall, F1-score, and AUC\n",
        "for algo_name, model in algorithms.items():\n",
        "    model.fit(X_train_vec, y_train)\n",
        "    y_pred = model.predict(X_test_vec)\n",
        "\n",
        "    accuracy = accuracy_score(y_test, y_pred)\n",
        "    precision = precision_score(y_test, y_pred)\n",
        "    recall = recall_score(y_test, y_pred)\n",
        "    f1 = f1_score(y_test, y_pred)\n",
        "\n",
        "    if hasattr(model, 'predict_proba'):\n",
        "        # For models that have predict_proba, use it for AUC calculation\n",
        "        auc = roc_auc_score(y_test, model.predict_proba(X_test_vec)[:, 1])\n",
        "    else:\n",
        "        # For Perceptron, use decision_function for AUC calculation\n",
        "        decision_values = model.decision_function(X_test_vec)\n",
        "        auc = roc_auc_score(y_test, decision_values)\n",
        "\n",
        "    print(f\"{algo_name} Metrics:\")\n",
        "    print(f\"Accuracy: {accuracy}\")\n",
        "    print(f\"Precision: {precision}\")\n",
        "    print(f\"Recall: {recall}\")\n",
        "    print(f\"F1-Score: {f1}\")\n",
        "    print(f\"AUC: {auc}\")\n",
        "    print(\"\\n\")\n"
      ],
      "metadata": {
        "colab": {
          "base_uri": "https://localhost:8080/"
        },
        "id": "sJfXCsobFtGl",
        "outputId": "19e870db-44b4-4d29-9a3d-d0172c30763e"
      },
      "execution_count": 2,
      "outputs": [
        {
          "output_type": "stream",
          "name": "stderr",
          "text": [
            "[nltk_data] Downloading package stopwords to /root/nltk_data...\n",
            "[nltk_data]   Package stopwords is already up-to-date!\n",
            "[nltk_data] Downloading package punkt to /root/nltk_data...\n",
            "[nltk_data]   Package punkt is already up-to-date!\n"
          ]
        },
        {
          "output_type": "stream",
          "name": "stdout",
          "text": [
            "Perceptron Metrics:\n",
            "Accuracy: 0.8644\n",
            "Precision: 0.857364641956142\n",
            "Recall: 0.8767612621551896\n",
            "F1-Score: 0.8669544740973312\n",
            "AUC: 0.938869480819213\n",
            "\n",
            "\n",
            "Decision Tree Metrics:\n",
            "Accuracy: 0.7238\n",
            "Precision: 0.7276544691061788\n",
            "Recall: 0.72216709664616\n",
            "F1-Score: 0.7249003984063745\n",
            "AUC: 0.7238128367729892\n",
            "\n",
            "\n",
            "Naive Bayes Metrics:\n",
            "Accuracy: 0.8605\n",
            "Precision: 0.8700243704305443\n",
            "Recall: 0.8501686842627505\n",
            "F1-Score: 0.8599819331526648\n",
            "AUC: 0.9353713079903782\n",
            "\n",
            "\n",
            "Logistic Regression Metrics:\n",
            "Accuracy: 0.8904\n",
            "Precision: 0.8787704130643612\n",
            "Recall: 0.9077197856717603\n",
            "F1-Score: 0.8930105427567357\n",
            "AUC: 0.9599935260061223\n",
            "\n",
            "\n"
          ]
        }
      ]
    },
    {
      "cell_type": "markdown",
      "source": [
        "# **Chosen algorithm for the model**"
      ],
      "metadata": {
        "id": "KWuEPLk4V1qa"
      }
    },
    {
      "cell_type": "code",
      "execution_count": 3,
      "metadata": {
        "id": "aUFWW2s4r92j",
        "colab": {
          "base_uri": "https://localhost:8080/",
          "height": 74
        },
        "outputId": "84ac73a1-6259-4db3-b0f4-1f6c8064ab47"
      },
      "outputs": [
        {
          "output_type": "execute_result",
          "data": {
            "text/plain": [
              "LogisticRegression(max_iter=1000)"
            ],
            "text/html": [
              "<style>#sk-container-id-1 {color: black;}#sk-container-id-1 pre{padding: 0;}#sk-container-id-1 div.sk-toggleable {background-color: white;}#sk-container-id-1 label.sk-toggleable__label {cursor: pointer;display: block;width: 100%;margin-bottom: 0;padding: 0.3em;box-sizing: border-box;text-align: center;}#sk-container-id-1 label.sk-toggleable__label-arrow:before {content: \"▸\";float: left;margin-right: 0.25em;color: #696969;}#sk-container-id-1 label.sk-toggleable__label-arrow:hover:before {color: black;}#sk-container-id-1 div.sk-estimator:hover label.sk-toggleable__label-arrow:before {color: black;}#sk-container-id-1 div.sk-toggleable__content {max-height: 0;max-width: 0;overflow: hidden;text-align: left;background-color: #f0f8ff;}#sk-container-id-1 div.sk-toggleable__content pre {margin: 0.2em;color: black;border-radius: 0.25em;background-color: #f0f8ff;}#sk-container-id-1 input.sk-toggleable__control:checked~div.sk-toggleable__content {max-height: 200px;max-width: 100%;overflow: auto;}#sk-container-id-1 input.sk-toggleable__control:checked~label.sk-toggleable__label-arrow:before {content: \"▾\";}#sk-container-id-1 div.sk-estimator input.sk-toggleable__control:checked~label.sk-toggleable__label {background-color: #d4ebff;}#sk-container-id-1 div.sk-label input.sk-toggleable__control:checked~label.sk-toggleable__label {background-color: #d4ebff;}#sk-container-id-1 input.sk-hidden--visually {border: 0;clip: rect(1px 1px 1px 1px);clip: rect(1px, 1px, 1px, 1px);height: 1px;margin: -1px;overflow: hidden;padding: 0;position: absolute;width: 1px;}#sk-container-id-1 div.sk-estimator {font-family: monospace;background-color: #f0f8ff;border: 1px dotted black;border-radius: 0.25em;box-sizing: border-box;margin-bottom: 0.5em;}#sk-container-id-1 div.sk-estimator:hover {background-color: #d4ebff;}#sk-container-id-1 div.sk-parallel-item::after {content: \"\";width: 100%;border-bottom: 1px solid gray;flex-grow: 1;}#sk-container-id-1 div.sk-label:hover label.sk-toggleable__label {background-color: #d4ebff;}#sk-container-id-1 div.sk-serial::before {content: \"\";position: absolute;border-left: 1px solid gray;box-sizing: border-box;top: 0;bottom: 0;left: 50%;z-index: 0;}#sk-container-id-1 div.sk-serial {display: flex;flex-direction: column;align-items: center;background-color: white;padding-right: 0.2em;padding-left: 0.2em;position: relative;}#sk-container-id-1 div.sk-item {position: relative;z-index: 1;}#sk-container-id-1 div.sk-parallel {display: flex;align-items: stretch;justify-content: center;background-color: white;position: relative;}#sk-container-id-1 div.sk-item::before, #sk-container-id-1 div.sk-parallel-item::before {content: \"\";position: absolute;border-left: 1px solid gray;box-sizing: border-box;top: 0;bottom: 0;left: 50%;z-index: -1;}#sk-container-id-1 div.sk-parallel-item {display: flex;flex-direction: column;z-index: 1;position: relative;background-color: white;}#sk-container-id-1 div.sk-parallel-item:first-child::after {align-self: flex-end;width: 50%;}#sk-container-id-1 div.sk-parallel-item:last-child::after {align-self: flex-start;width: 50%;}#sk-container-id-1 div.sk-parallel-item:only-child::after {width: 0;}#sk-container-id-1 div.sk-dashed-wrapped {border: 1px dashed gray;margin: 0 0.4em 0.5em 0.4em;box-sizing: border-box;padding-bottom: 0.4em;background-color: white;}#sk-container-id-1 div.sk-label label {font-family: monospace;font-weight: bold;display: inline-block;line-height: 1.2em;}#sk-container-id-1 div.sk-label-container {text-align: center;}#sk-container-id-1 div.sk-container {/* jupyter's `normalize.less` sets `[hidden] { display: none; }` but bootstrap.min.css set `[hidden] { display: none !important; }` so we also need the `!important` here to be able to override the default hidden behavior on the sphinx rendered scikit-learn.org. See: https://github.com/scikit-learn/scikit-learn/issues/21755 */display: inline-block !important;position: relative;}#sk-container-id-1 div.sk-text-repr-fallback {display: none;}</style><div id=\"sk-container-id-1\" class=\"sk-top-container\"><div class=\"sk-text-repr-fallback\"><pre>LogisticRegression(max_iter=1000)</pre><b>In a Jupyter environment, please rerun this cell to show the HTML representation or trust the notebook. <br />On GitHub, the HTML representation is unable to render, please try loading this page with nbviewer.org.</b></div><div class=\"sk-container\" hidden><div class=\"sk-item\"><div class=\"sk-estimator sk-toggleable\"><input class=\"sk-toggleable__control sk-hidden--visually\" id=\"sk-estimator-id-1\" type=\"checkbox\" checked><label for=\"sk-estimator-id-1\" class=\"sk-toggleable__label sk-toggleable__label-arrow\">LogisticRegression</label><div class=\"sk-toggleable__content\"><pre>LogisticRegression(max_iter=1000)</pre></div></div></div></div></div>"
            ]
          },
          "metadata": {},
          "execution_count": 3
        }
      ],
      "source": [
        "# Train a logistic regression model\n",
        "model = LogisticRegression(max_iter=1000)\n",
        "model.fit(X_train_vec, y_train)\n"
      ]
    },
    {
      "cell_type": "markdown",
      "source": [
        "# **Testing new data**"
      ],
      "metadata": {
        "id": "dRu2f7FwV8cV"
      }
    },
    {
      "cell_type": "code",
      "source": [
        "# Preprocess the new data\n",
        "new_data = [\n",
        "    \"I loved the movie. It had great acting and a compelling story.\",\n",
        "    \"The movie was terrible. The acting was bad and the plot was boring.\",\n",
        "    \"The performances in the movie were outstanding. Truly remarkable.\",\n",
        "    \"I couldn't stand the movie. It was so disappointing.\",\n",
        "    \"The movie exceeded my expectations. It was fantastic!\",\n",
        "    \"I regret watching the movie. Waste of time.\",\n",
        "    \"The movie was bad!\"\n",
        "]\n",
        "\n",
        "# text cleaning (stop words removal and stemming)\n",
        "\n",
        "cleaned_new_data = [clean_text(text) for text in new_data]\n",
        "\n",
        "new_data_vec = vectorizer.transform(cleaned_new_data)  # Preprocess the new data using the same vectorizer\n",
        "\n",
        "# Use the trained model for prediction\n",
        "new_data_pred = model.predict(new_data_vec)  # Predict the sentiment labels for the new data\n",
        "\n",
        "sentiments = {\n",
        "    0 : 'Negative',\n",
        "    1 : 'Positive'\n",
        "}\n",
        "# Print the predictions\n",
        "for data, pred in zip(new_data, new_data_pred):\n",
        "    print(\"Review:\", data)\n",
        "    print(\"Sentiment:\", sentiments[pred])\n",
        "    print()"
      ],
      "metadata": {
        "colab": {
          "base_uri": "https://localhost:8080/"
        },
        "id": "83Z2A8x1rR8d",
        "outputId": "c1104959-ea08-44f8-d3c0-803a98e5e016"
      },
      "execution_count": 4,
      "outputs": [
        {
          "output_type": "stream",
          "name": "stdout",
          "text": [
            "Review: I loved the movie. It had great acting and a compelling story.\n",
            "Sentiment: Positive\n",
            "\n",
            "Review: The movie was terrible. The acting was bad and the plot was boring.\n",
            "Sentiment: Negative\n",
            "\n",
            "Review: The performances in the movie were outstanding. Truly remarkable.\n",
            "Sentiment: Positive\n",
            "\n",
            "Review: I couldn't stand the movie. It was so disappointing.\n",
            "Sentiment: Negative\n",
            "\n",
            "Review: The movie exceeded my expectations. It was fantastic!\n",
            "Sentiment: Positive\n",
            "\n",
            "Review: I regret watching the movie. Waste of time.\n",
            "Sentiment: Negative\n",
            "\n",
            "Review: The movie was bad!\n",
            "Sentiment: Negative\n",
            "\n"
          ]
        }
      ]
    }
  ]
}